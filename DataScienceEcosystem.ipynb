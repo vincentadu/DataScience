{
 "cells": [
  {
   "cell_type": "markdown",
   "id": "e149c21d-979c-4c72-86e8-7f8a23b76c1e",
   "metadata": {},
   "source": [
    "# Data Science Tools and Ecosystem"
   ]
  },
  {
   "cell_type": "markdown",
   "id": "9058bcd5-ae21-475a-8dca-5aceca8bd58a",
   "metadata": {},
   "source": [
    "In this notebook, Data Science Tools and Ecosystem are summarized."
   ]
  },
  {
   "cell_type": "markdown",
   "id": "3641b798-a17e-4dba-b25c-72bf68d560a9",
   "metadata": {},
   "source": [
    "**Objectives:**\n",
    "- List popular languages for Data Science\n",
    "- Commonly Used Libraries for Data Sciece\n",
    "- Data Sciece Development Environment Tools\n",
    "- Arithmetic Expressions in Python\n",
    "\n",
    "\n",
    "\n"
   ]
  },
  {
   "cell_type": "markdown",
   "id": "ca5f2351-5e08-4789-bac6-f71abfec835a",
   "metadata": {},
   "source": [
    "Some of the popular languages that Data Scientists use are:\n",
    "1. Python\n",
    "2. SQL\n",
    "3. R statistical language"
   ]
  },
  {
   "cell_type": "markdown",
   "id": "06eaaa2e-2ab6-4741-95ef-c56f40ba43f5",
   "metadata": {},
   "source": [
    "Some of the commonly used libraries used by Data Scientists include:\n",
    "1. Pandas\n",
    "2. Numpy\n",
    "3. Plotly"
   ]
  },
  {
   "cell_type": "markdown",
   "id": "d6e741f3-31c9-4af9-a61a-5e69e4e0c42d",
   "metadata": {},
   "source": [
    "| Data Science Tools|\n",
    "|-------------------|\n",
    "|JupyterLab |\n",
    "| Rstudio |\n",
    "| Microsoft Visual Studio |\n"
   ]
  },
  {
   "cell_type": "markdown",
   "id": "22c3b6f5-93e8-4e0a-bd55-6616c4eafcda",
   "metadata": {},
   "source": [
    "### Below are a few examples of evaluating arithmetic expressions in Python"
   ]
  },
  {
   "cell_type": "code",
   "execution_count": 2,
   "id": "4e275c40-2dab-4c5a-9b19-e3223d4cab96",
   "metadata": {},
   "outputs": [
    {
     "data": {
      "text/plain": [
       "17"
      ]
     },
     "execution_count": 2,
     "metadata": {},
     "output_type": "execute_result"
    }
   ],
   "source": [
    "#This a simple arithmetic expression to mutiply then add integers\n",
    "(3*4)+5"
   ]
  },
  {
   "cell_type": "code",
   "execution_count": 4,
   "id": "1de6dfc6-54e0-46b6-9efd-abe12c93151e",
   "metadata": {},
   "outputs": [
    {
     "name": "stdout",
     "output_type": "stream",
     "text": [
      "3.33 hrs\n"
     ]
    }
   ],
   "source": [
    "#This will convert 200 minutes to hours by diving by 60\n",
    "minutes = 200\n",
    "hours = round(minutes / 60,2)\n",
    "print (f\"{hours} hrs\")"
   ]
  },
  {
   "cell_type": "markdown",
   "id": "92af4873-81b2-4a0a-82cc-cba6e351f94a",
   "metadata": {},
   "source": [
    "## Author\n",
    "Vincent Angelo Ortiz"
   ]
  },
  {
   "cell_type": "code",
   "execution_count": null,
   "id": "ba55f680-1b82-47f6-bcc7-96708fa5f1d4",
   "metadata": {},
   "outputs": [],
   "source": []
  }
 ],
 "metadata": {
  "kernelspec": {
   "display_name": "Python 3 (ipykernel)",
   "language": "python",
   "name": "python3"
  },
  "language_info": {
   "codemirror_mode": {
    "name": "ipython",
    "version": 3
   },
   "file_extension": ".py",
   "mimetype": "text/x-python",
   "name": "python",
   "nbconvert_exporter": "python",
   "pygments_lexer": "ipython3",
   "version": "3.9.18"
  }
 },
 "nbformat": 4,
 "nbformat_minor": 5
}
